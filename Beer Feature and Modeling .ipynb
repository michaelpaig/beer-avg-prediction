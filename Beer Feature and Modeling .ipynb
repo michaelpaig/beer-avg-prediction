{
 "cells": [
  {
   "cell_type": "markdown",
   "metadata": {},
   "source": [
    "# Feature Engineering and Final Model"
   ]
  },
  {
   "cell_type": "code",
   "execution_count": 1,
   "metadata": {},
   "outputs": [],
   "source": [
    "import pandas as pd\n",
    "import numpy as np\n",
    "import statsmodels.api as sm\n",
    "import statsmodels.formula.api as smf\n",
    "\n",
    "import seaborn as sns\n",
    "import matplotlib.pyplot as plt\n",
    "%matplotlib inline\n",
    "\n",
    "from sklearn.model_selection import train_test_split, KFold\n",
    "from sklearn.linear_model import LinearRegression, Lasso, LassoCV, Ridge, RidgeCV\n",
    "from sklearn.metrics import r2_score\n",
    "from sklearn.preprocessing import StandardScaler, PolynomialFeatures"
   ]
  },
  {
   "cell_type": "code",
   "execution_count": 2,
   "metadata": {},
   "outputs": [],
   "source": [
    "final_df = pd.read_pickle('beer_df.pkl')"
   ]
  },
  {
   "cell_type": "code",
   "execution_count": 3,
   "metadata": {},
   "outputs": [
    {
     "data": {
      "text/plain": [
       "Av Score         -2.456780\n",
       "Reviews           1.139846\n",
       "Want              4.267093\n",
       "Alc Percentage    1.339263\n",
       "Year-round        0.295267\n",
       "Brewery Beer      1.626660\n",
       "dtype: float64"
      ]
     },
     "execution_count": 3,
     "metadata": {},
     "output_type": "execute_result"
    }
   ],
   "source": [
    "final_df.skew(axis=0)"
   ]
  },
  {
   "cell_type": "markdown",
   "metadata": {},
   "source": [
    "### Log the columns that are skewed"
   ]
  },
  {
   "cell_type": "code",
   "execution_count": 4,
   "metadata": {},
   "outputs": [],
   "source": [
    "column = ['Reviews', 'Want', 'Alc Percentage']\n",
    "\n",
    "final_df[column] = np.log(final_df[column])"
   ]
  },
  {
   "cell_type": "code",
   "execution_count": 5,
   "metadata": {},
   "outputs": [
    {
     "data": {
      "text/plain": [
       "Av Score         -2.456780\n",
       "Reviews          -0.631929\n",
       "Want              0.267055\n",
       "Alc Percentage    0.237599\n",
       "Year-round        0.295267\n",
       "Brewery Beer      1.626660\n",
       "dtype: float64"
      ]
     },
     "execution_count": 5,
     "metadata": {},
     "output_type": "execute_result"
    }
   ],
   "source": [
    "final_df.skew(axis=0)"
   ]
  },
  {
   "cell_type": "markdown",
   "metadata": {},
   "source": [
    "## Cross Validation"
   ]
  },
  {
   "cell_type": "code",
   "execution_count": 6,
   "metadata": {},
   "outputs": [],
   "source": [
    "Features = final_df.loc[:, ['Reviews', 'Want', 'Alc Percentage', \n",
    "                            'Year-round',  'Brewery Beer']]\n",
    "Target = final_df['Av Score']"
   ]
  },
  {
   "cell_type": "code",
   "execution_count": 7,
   "metadata": {},
   "outputs": [],
   "source": [
    "Features, Features_test, Target, Target_test = train_test_split(Features, Target, test_size=.2, random_state=10) \n",
    "\n",
    "Features, Target = np.array(Features), np.array(Target)"
   ]
  },
  {
   "cell_type": "code",
   "execution_count": 8,
   "metadata": {},
   "outputs": [],
   "source": [
    "kf = KFold(n_splits=5, shuffle=True, random_state = 20)\n",
    "cv_lm_r2s, cv_lm_reg_r2s, cv_lasso, cv_poly, cv_l, cv_ridge, cv_lin, cv_poly2 = [], [], [], [], [], [], [], [] #collect the validation results for both models\n",
    "\n",
    "for train_ind, val_ind in kf.split(Features, Target):\n",
    "    \n",
    "    Features_train, Target_train = Features[train_ind], Target[train_ind]\n",
    "    Features_val, Target_val = Features[val_ind], Target[val_ind] \n",
    "    \n",
    "    #simple linear regression\n",
    "    lm = LinearRegression()\n",
    "\n",
    "    lm.fit(Features_train, Target_train)\n",
    "    cv_lm_r2s.append(lm.score(Features_val, Target_val))\n",
    "    cv_lin.append(lm.score(Features_train, Target_train))\n",
    "    \n",
    "    #scaler\n",
    "    scaler = StandardScaler()\n",
    "    Features_train_scaled = scaler.fit_transform(Features_train)\n",
    "    Features_val_scaled = scaler.transform(Features_val)\n",
    "    \n",
    "    #ridge with feature scaling\n",
    "    lm_reg = Ridge(alpha=1)\n",
    "    lm_reg.fit(Features_train_scaled, Target_train)\n",
    "    cv_lm_reg_r2s.append(lm_reg.score(Features_val_scaled, Target_val))\n",
    "    cv_ridge.append(lm_reg.score(Features_train_scaled, Target_train))\n",
    "\n",
    "    #lasso transformation\n",
    "    lr_lasso = Lasso(alpha=.01)\n",
    "    lr_lasso.fit(Features_train_scaled, Target_train)\n",
    "    cv_lasso.append(lr_lasso.score(Features_val_scaled, Target_val))\n",
    "    cv_l.append(lr_lasso.score(Features_train_scaled, Target_train))\n",
    "    \n",
    "    #polynomial transformation\n",
    "    poly = PolynomialFeatures(degree=2) \n",
    "\n",
    "    Features_train_poly = poly.fit_transform(Features_train)\n",
    "    Features_val_poly = poly.transform(Features_val)\n",
    "\n",
    "    lm_poly = LinearRegression()\n",
    "    lm_poly.fit(Features_train_poly, Target_train)\n",
    "    cv_poly.append(lm_poly.score(Features_val_poly, Target_val))\n",
    "    cv_poly2.append(lm_poly.score(Features_train_poly, Target_train))"
   ]
  },
  {
   "cell_type": "code",
   "execution_count": 9,
   "metadata": {},
   "outputs": [
    {
     "name": "stdout",
     "output_type": "stream",
     "text": [
      "Simple regression scores:  [0.6576239498354466, 0.622355568593551, 0.6037401023071909, 0.5340132764241619, 0.7998626976044075]\n",
      "Ridge scores:  [0.6586536510941636, 0.6218386179801636, 0.603949412526613, 0.5337845030800097, 0.8002020414447276]\n",
      "Lasso scores:  [0.6653888595353363, 0.605953053738669, 0.6057741466515982, 0.5274959757571847, 0.804420590178154]\n",
      "Poly scores:  [0.8224728892824841, 0.829804797775697, 0.8046950831806531, 0.7760245396319267, 0.807344721520422] \n",
      "\n",
      "Linear val scores [0.6383925242040409, 0.6464823987333619, 0.6528050740101244, 0.6775135623048405, 0.6129094867742532]\n",
      "Ridge val scores [0.638383228458517, 0.646472133545949, 0.6527959428848309, 0.6775036014274569, 0.6129006912714908]\n",
      "Lasso val scores [0.6342942875979954, 0.6413945821618434, 0.6489478662253, 0.6717900260094858, 0.6087354472816839]\n",
      "Poly val scores [0.8258598442468418, 0.8237130324751536, 0.8319155144643626, 0.8407374563885153, 0.8258936827919556] \n",
      "\n",
      "Simple mean cv r^2: 0.644 +- 0.088\n",
      "Ridge mean cv r^2: 0.644 +- 0.088\n",
      "Lasso mean cv r^2: 0.642 +- 0.092\n",
      "Poly mean cv r^2: 0.808 +- 0.019\n"
     ]
    }
   ],
   "source": [
    "print('Simple regression scores: ', cv_lm_r2s)\n",
    "print('Ridge scores: ', cv_lm_reg_r2s)\n",
    "print('Lasso scores: ', cv_lasso)\n",
    "print('Poly scores: ', cv_poly, '\\n')\n",
    "print('Linear val scores',cv_lin)\n",
    "print('Ridge val scores',cv_ridge)\n",
    "print('Lasso val scores',cv_l)\n",
    "print('Poly val scores',cv_poly2, '\\n')\n",
    "\n",
    "print(f'Simple mean cv r^2: {np.mean(cv_lm_r2s):.3f} +- {np.std(cv_lm_r2s):.3f}')\n",
    "print(f'Ridge mean cv r^2: {np.mean(cv_lm_reg_r2s):.3f} +- {np.std(cv_lm_reg_r2s):.3f}')\n",
    "print(f'Lasso mean cv r^2: {np.mean(cv_lasso):.3f} +- {np.std(cv_lasso):.3f}')\n",
    "print(f'Poly mean cv r^2: {np.mean(cv_poly):.3f} +- {np.std(cv_poly):.3f}')"
   ]
  },
  {
   "cell_type": "markdown",
   "metadata": {},
   "source": [
    "### Final R2 score"
   ]
  },
  {
   "cell_type": "code",
   "execution_count": 10,
   "metadata": {},
   "outputs": [
    {
     "data": {
      "text/plain": [
       "0.61917984585388"
      ]
     },
     "execution_count": 10,
     "metadata": {},
     "output_type": "execute_result"
    }
   ],
   "source": [
    "lm.fit(Features, Target)\n",
    "lm.score(Features_test, Target_test)"
   ]
  },
  {
   "cell_type": "markdown",
   "metadata": {},
   "source": [
    "### RMSE Score"
   ]
  },
  {
   "cell_type": "code",
   "execution_count": 11,
   "metadata": {},
   "outputs": [
    {
     "data": {
      "text/plain": [
       "0.25289125382775124"
      ]
     },
     "execution_count": 11,
     "metadata": {},
     "output_type": "execute_result"
    }
   ],
   "source": [
    "from sklearn.metrics import mean_squared_error\n",
    "from math import sqrt\n",
    "\n",
    "target_pred = lm.predict(Features_test)\n",
    "rms = sqrt(mean_squared_error(Target_test, target_pred))\n",
    "rms"
   ]
  },
  {
   "cell_type": "markdown",
   "metadata": {},
   "source": [
    "### Coefficients"
   ]
  },
  {
   "cell_type": "code",
   "execution_count": 12,
   "metadata": {},
   "outputs": [
    {
     "data": {
      "text/plain": [
       "array([-1.71652744e-01,  1.80345749e-01,  2.37133321e-01,  4.59705711e-02,\n",
       "        1.82671814e-04])"
      ]
     },
     "execution_count": 12,
     "metadata": {},
     "output_type": "execute_result"
    }
   ],
   "source": [
    "lm.coef_"
   ]
  },
  {
   "cell_type": "markdown",
   "metadata": {},
   "source": [
    "### Scaled Coefficients"
   ]
  },
  {
   "cell_type": "code",
   "execution_count": 13,
   "metadata": {},
   "outputs": [],
   "source": [
    "Features_scaled = scaler.fit_transform(Features)\n",
    "Features_test_scaled = scaler.transform(Features_test)"
   ]
  },
  {
   "cell_type": "code",
   "execution_count": 14,
   "metadata": {},
   "outputs": [
    {
     "data": {
      "text/plain": [
       "array([-0.21440636,  0.19606626,  0.07784963,  0.02276307,  0.01947942])"
      ]
     },
     "execution_count": 14,
     "metadata": {},
     "output_type": "execute_result"
    }
   ],
   "source": [
    "lm.fit(Features_scaled, Target)\n",
    "lm.coef_"
   ]
  },
  {
   "cell_type": "markdown",
   "metadata": {},
   "source": [
    "### Linear Regression Assumptions"
   ]
  },
  {
   "cell_type": "code",
   "execution_count": 15,
   "metadata": {},
   "outputs": [],
   "source": [
    "Features = final_df.loc[:, ['Reviews', 'Want', 'Alc Percentage', 'Year-round',  'Brewery Beer']]\n",
    "Target = final_df['Av Score']"
   ]
  },
  {
   "cell_type": "code",
   "execution_count": 16,
   "metadata": {},
   "outputs": [],
   "source": [
    "lr3 = LinearRegression()\n",
    "fit3 = lr3.fit(Features, Target)"
   ]
  },
  {
   "cell_type": "code",
   "execution_count": 17,
   "metadata": {},
   "outputs": [
    {
     "data": {
      "image/png": "[encoded data removed]",
      "text/plain": [
       "<Figure size 720x432 with 1 Axes>"
      ]
     },
     "metadata": {},
     "output_type": "display_data"
    }
   ],
   "source": [
    "final_df['predict2']=fit3.predict(Features)\n",
    "final_df['resid2']=final_df['Av Score']-final_df.predict2\n",
    "with sns.axes_style('white'):\n",
    "    plot=final_df.plot(kind='scatter',\n",
    "                  x='predict2',y='resid2',alpha=0.2,figsize=(10,6))"
   ]
  },
  {
   "cell_type": "code",
   "execution_count": 18,
   "metadata": {},
   "outputs": [
    {
     "data": {
      "image/png": "[encoded data removed]",
      "text/plain": [
       "<Figure size 432x288 with 1 Axes>"
      ]
     },
     "metadata": {
      "needs_background": "light"
     },
     "output_type": "display_data"
    }
   ],
   "source": [
    "import scipy.stats as stats\n",
    "stats.probplot(final_df['resid2'], dist=\"norm\", plot=plt)\n",
    "plt.title(\"Normal Q-Q plot\")\n",
    "plt.show()"
   ]
  }
 ],
 "metadata": {
  "kernelspec": {
   "display_name": "Python 3",
   "language": "python",
   "name": "python3"
  },
  "language_info": {
   "codemirror_mode": {
    "name": "ipython",
    "version": 3
   },
   "file_extension": ".py",
   "mimetype": "text/x-python",
   "name": "python",
   "nbconvert_exporter": "python",
   "pygments_lexer": "ipython3",
   "version": "3.7.6"
  }
 },
 "nbformat": 4,
 "nbformat_minor": 4
}
